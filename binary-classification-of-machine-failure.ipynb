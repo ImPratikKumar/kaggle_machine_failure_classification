{
 "cells": [
  {
   "cell_type": "code",
   "execution_count": 1,
   "id": "2a0185bc",
   "metadata": {
    "_cell_guid": "b1076dfc-b9ad-4769-8c92-a6c4dae69d19",
    "_uuid": "8f2839f25d086af736a60e9eeb907d3b93b6e0e5",
    "execution": {
     "iopub.execute_input": "2023-07-06T11:29:26.782393Z",
     "iopub.status.busy": "2023-07-06T11:29:26.781560Z",
     "iopub.status.idle": "2023-07-06T11:29:26.799622Z",
     "shell.execute_reply": "2023-07-06T11:29:26.798126Z"
    },
    "papermill": {
     "duration": 0.030255,
     "end_time": "2023-07-06T11:29:26.803071",
     "exception": false,
     "start_time": "2023-07-06T11:29:26.772816",
     "status": "completed"
    },
    "tags": []
   },
   "outputs": [
    {
     "name": "stdout",
     "output_type": "stream",
     "text": [
      "/kaggle/input/playground-series-s3e17/sample_submission.csv\n",
      "/kaggle/input/playground-series-s3e17/train.csv\n",
      "/kaggle/input/playground-series-s3e17/test.csv\n"
     ]
    }
   ],
   "source": [
    "# This Python 3 environment comes with many helpful analytics libraries installed\n",
    "# It is defined by the kaggle/python Docker image: https://github.com/kaggle/docker-python\n",
    "# For example, here's several helpful packages to load\n",
    "\n",
    "import numpy as np # linear algebra\n",
    "import pandas as pd # data processing, CSV file I/O (e.g. pd.read_csv)\n",
    "\n",
    "# Input data files are available in the read-only \"../input/\" directory\n",
    "# For example, running this (by clicking run or pressing Shift+Enter) will list all files under the input directory\n",
    "\n",
    "import os\n",
    "for dirname, _, filenames in os.walk('/kaggle/input'):\n",
    "    for filename in filenames:\n",
    "        print(os.path.join(dirname, filename))\n",
    "\n",
    "# You can write up to 20GB to the current directory (/kaggle/working/) that gets preserved as output when you create a version using \"Save & Run All\" \n",
    "# You can also write temporary files to /kaggle/temp/, but they won't be saved outside of the current session"
   ]
  },
  {
   "cell_type": "markdown",
   "id": "dc1bea93",
   "metadata": {
    "papermill": {
     "duration": 0.006905,
     "end_time": "2023-07-06T11:29:26.817243",
     "exception": false,
     "start_time": "2023-07-06T11:29:26.810338",
     "status": "completed"
    },
    "tags": []
   },
   "source": [
    "## Importing the Libraries and Data"
   ]
  },
  {
   "cell_type": "code",
   "execution_count": 2,
   "id": "9673bafa",
   "metadata": {
    "execution": {
     "iopub.execute_input": "2023-07-06T11:29:26.832743Z",
     "iopub.status.busy": "2023-07-06T11:29:26.831781Z",
     "iopub.status.idle": "2023-07-06T11:29:28.282557Z",
     "shell.execute_reply": "2023-07-06T11:29:28.281665Z"
    },
    "papermill": {
     "duration": 1.461436,
     "end_time": "2023-07-06T11:29:28.285258",
     "exception": false,
     "start_time": "2023-07-06T11:29:26.823822",
     "status": "completed"
    },
    "tags": []
   },
   "outputs": [],
   "source": [
    "import numpy as np\n",
    "import pandas as pd\n",
    "import matplotlib.pyplot as plt\n",
    "import seaborn as sns"
   ]
  },
  {
   "cell_type": "code",
   "execution_count": 3,
   "id": "4ca93a13",
   "metadata": {
    "execution": {
     "iopub.execute_input": "2023-07-06T11:29:28.300958Z",
     "iopub.status.busy": "2023-07-06T11:29:28.300245Z",
     "iopub.status.idle": "2023-07-06T11:29:28.817035Z",
     "shell.execute_reply": "2023-07-06T11:29:28.816019Z"
    },
    "papermill": {
     "duration": 0.527812,
     "end_time": "2023-07-06T11:29:28.819797",
     "exception": false,
     "start_time": "2023-07-06T11:29:28.291985",
     "status": "completed"
    },
    "tags": []
   },
   "outputs": [],
   "source": [
    "train = pd.read_csv('/kaggle/input/playground-series-s3e17/train.csv')\n",
    "test = pd.read_csv('/kaggle/input/playground-series-s3e17/test.csv')"
   ]
  },
  {
   "cell_type": "markdown",
   "id": "2124ac95",
   "metadata": {
    "papermill": {
     "duration": 0.006355,
     "end_time": "2023-07-06T11:29:28.832810",
     "exception": false,
     "start_time": "2023-07-06T11:29:28.826455",
     "status": "completed"
    },
    "tags": []
   },
   "source": [
    "## Data Preprocessing and Visualization"
   ]
  },
  {
   "cell_type": "code",
   "execution_count": 4,
   "id": "90bf8c9c",
   "metadata": {
    "execution": {
     "iopub.execute_input": "2023-07-06T11:29:28.849982Z",
     "iopub.status.busy": "2023-07-06T11:29:28.849541Z",
     "iopub.status.idle": "2023-07-06T11:29:28.886356Z",
     "shell.execute_reply": "2023-07-06T11:29:28.885553Z"
    },
    "papermill": {
     "duration": 0.048794,
     "end_time": "2023-07-06T11:29:28.888528",
     "exception": false,
     "start_time": "2023-07-06T11:29:28.839734",
     "status": "completed"
    },
    "tags": []
   },
   "outputs": [
    {
     "data": {
      "text/html": [
       "<div>\n",
       "<style scoped>\n",
       "    .dataframe tbody tr th:only-of-type {\n",
       "        vertical-align: middle;\n",
       "    }\n",
       "\n",
       "    .dataframe tbody tr th {\n",
       "        vertical-align: top;\n",
       "    }\n",
       "\n",
       "    .dataframe thead th {\n",
       "        text-align: right;\n",
       "    }\n",
       "</style>\n",
       "<table border=\"1\" class=\"dataframe\">\n",
       "  <thead>\n",
       "    <tr style=\"text-align: right;\">\n",
       "      <th></th>\n",
       "      <th>id</th>\n",
       "      <th>Product ID</th>\n",
       "      <th>Type</th>\n",
       "      <th>Air temperature [K]</th>\n",
       "      <th>Process temperature [K]</th>\n",
       "      <th>Rotational speed [rpm]</th>\n",
       "      <th>Torque [Nm]</th>\n",
       "      <th>Tool wear [min]</th>\n",
       "      <th>Machine failure</th>\n",
       "      <th>TWF</th>\n",
       "      <th>HDF</th>\n",
       "      <th>PWF</th>\n",
       "      <th>OSF</th>\n",
       "      <th>RNF</th>\n",
       "    </tr>\n",
       "  </thead>\n",
       "  <tbody>\n",
       "    <tr>\n",
       "      <th>0</th>\n",
       "      <td>0</td>\n",
       "      <td>L50096</td>\n",
       "      <td>L</td>\n",
       "      <td>300.6</td>\n",
       "      <td>309.6</td>\n",
       "      <td>1596</td>\n",
       "      <td>36.1</td>\n",
       "      <td>140</td>\n",
       "      <td>0</td>\n",
       "      <td>0</td>\n",
       "      <td>0</td>\n",
       "      <td>0</td>\n",
       "      <td>0</td>\n",
       "      <td>0</td>\n",
       "    </tr>\n",
       "    <tr>\n",
       "      <th>1</th>\n",
       "      <td>1</td>\n",
       "      <td>M20343</td>\n",
       "      <td>M</td>\n",
       "      <td>302.6</td>\n",
       "      <td>312.1</td>\n",
       "      <td>1759</td>\n",
       "      <td>29.1</td>\n",
       "      <td>200</td>\n",
       "      <td>0</td>\n",
       "      <td>0</td>\n",
       "      <td>0</td>\n",
       "      <td>0</td>\n",
       "      <td>0</td>\n",
       "      <td>0</td>\n",
       "    </tr>\n",
       "    <tr>\n",
       "      <th>2</th>\n",
       "      <td>2</td>\n",
       "      <td>L49454</td>\n",
       "      <td>L</td>\n",
       "      <td>299.3</td>\n",
       "      <td>308.5</td>\n",
       "      <td>1805</td>\n",
       "      <td>26.5</td>\n",
       "      <td>25</td>\n",
       "      <td>0</td>\n",
       "      <td>0</td>\n",
       "      <td>0</td>\n",
       "      <td>0</td>\n",
       "      <td>0</td>\n",
       "      <td>0</td>\n",
       "    </tr>\n",
       "    <tr>\n",
       "      <th>3</th>\n",
       "      <td>3</td>\n",
       "      <td>L53355</td>\n",
       "      <td>L</td>\n",
       "      <td>301.0</td>\n",
       "      <td>310.9</td>\n",
       "      <td>1524</td>\n",
       "      <td>44.3</td>\n",
       "      <td>197</td>\n",
       "      <td>0</td>\n",
       "      <td>0</td>\n",
       "      <td>0</td>\n",
       "      <td>0</td>\n",
       "      <td>0</td>\n",
       "      <td>0</td>\n",
       "    </tr>\n",
       "    <tr>\n",
       "      <th>4</th>\n",
       "      <td>4</td>\n",
       "      <td>M24050</td>\n",
       "      <td>M</td>\n",
       "      <td>298.0</td>\n",
       "      <td>309.0</td>\n",
       "      <td>1641</td>\n",
       "      <td>35.4</td>\n",
       "      <td>34</td>\n",
       "      <td>0</td>\n",
       "      <td>0</td>\n",
       "      <td>0</td>\n",
       "      <td>0</td>\n",
       "      <td>0</td>\n",
       "      <td>0</td>\n",
       "    </tr>\n",
       "  </tbody>\n",
       "</table>\n",
       "</div>"
      ],
      "text/plain": [
       "   id Product ID Type  Air temperature [K]  Process temperature [K]  \\\n",
       "0   0     L50096    L                300.6                    309.6   \n",
       "1   1     M20343    M                302.6                    312.1   \n",
       "2   2     L49454    L                299.3                    308.5   \n",
       "3   3     L53355    L                301.0                    310.9   \n",
       "4   4     M24050    M                298.0                    309.0   \n",
       "\n",
       "   Rotational speed [rpm]  Torque [Nm]  Tool wear [min]  Machine failure  TWF  \\\n",
       "0                    1596         36.1              140                0    0   \n",
       "1                    1759         29.1              200                0    0   \n",
       "2                    1805         26.5               25                0    0   \n",
       "3                    1524         44.3              197                0    0   \n",
       "4                    1641         35.4               34                0    0   \n",
       "\n",
       "   HDF  PWF  OSF  RNF  \n",
       "0    0    0    0    0  \n",
       "1    0    0    0    0  \n",
       "2    0    0    0    0  \n",
       "3    0    0    0    0  \n",
       "4    0    0    0    0  "
      ]
     },
     "execution_count": 4,
     "metadata": {},
     "output_type": "execute_result"
    }
   ],
   "source": [
    "train.head()"
   ]
  },
  {
   "cell_type": "markdown",
   "id": "e8df5fb5",
   "metadata": {
    "papermill": {
     "duration": 0.007136,
     "end_time": "2023-07-06T11:29:28.902611",
     "exception": false,
     "start_time": "2023-07-06T11:29:28.895475",
     "status": "completed"
    },
    "tags": []
   },
   "source": [
    "where,\n",
    "TWF - Tool Wear Failure,\n",
    "HDF - Heat Dissipation Failure,\n",
    "PWF - Power Failure,\n",
    "OSF - Over Strain Failure,\n",
    "RNF - Random Failure"
   ]
  },
  {
   "cell_type": "code",
   "execution_count": 5,
   "id": "c9de50d4",
   "metadata": {
    "execution": {
     "iopub.execute_input": "2023-07-06T11:29:28.919862Z",
     "iopub.status.busy": "2023-07-06T11:29:28.919003Z",
     "iopub.status.idle": "2023-07-06T11:29:28.936153Z",
     "shell.execute_reply": "2023-07-06T11:29:28.935119Z"
    },
    "papermill": {
     "duration": 0.028232,
     "end_time": "2023-07-06T11:29:28.938383",
     "exception": false,
     "start_time": "2023-07-06T11:29:28.910151",
     "status": "completed"
    },
    "tags": []
   },
   "outputs": [
    {
     "data": {
      "text/html": [
       "<div>\n",
       "<style scoped>\n",
       "    .dataframe tbody tr th:only-of-type {\n",
       "        vertical-align: middle;\n",
       "    }\n",
       "\n",
       "    .dataframe tbody tr th {\n",
       "        vertical-align: top;\n",
       "    }\n",
       "\n",
       "    .dataframe thead th {\n",
       "        text-align: right;\n",
       "    }\n",
       "</style>\n",
       "<table border=\"1\" class=\"dataframe\">\n",
       "  <thead>\n",
       "    <tr style=\"text-align: right;\">\n",
       "      <th></th>\n",
       "      <th>id</th>\n",
       "      <th>Product ID</th>\n",
       "      <th>Type</th>\n",
       "      <th>Air temperature [K]</th>\n",
       "      <th>Process temperature [K]</th>\n",
       "      <th>Rotational speed [rpm]</th>\n",
       "      <th>Torque [Nm]</th>\n",
       "      <th>Tool wear [min]</th>\n",
       "      <th>TWF</th>\n",
       "      <th>HDF</th>\n",
       "      <th>PWF</th>\n",
       "      <th>OSF</th>\n",
       "      <th>RNF</th>\n",
       "    </tr>\n",
       "  </thead>\n",
       "  <tbody>\n",
       "    <tr>\n",
       "      <th>0</th>\n",
       "      <td>136429</td>\n",
       "      <td>L50896</td>\n",
       "      <td>L</td>\n",
       "      <td>302.3</td>\n",
       "      <td>311.5</td>\n",
       "      <td>1499</td>\n",
       "      <td>38.0</td>\n",
       "      <td>60</td>\n",
       "      <td>0</td>\n",
       "      <td>0</td>\n",
       "      <td>0</td>\n",
       "      <td>0</td>\n",
       "      <td>0</td>\n",
       "    </tr>\n",
       "    <tr>\n",
       "      <th>1</th>\n",
       "      <td>136430</td>\n",
       "      <td>L53866</td>\n",
       "      <td>L</td>\n",
       "      <td>301.7</td>\n",
       "      <td>311.0</td>\n",
       "      <td>1713</td>\n",
       "      <td>28.8</td>\n",
       "      <td>17</td>\n",
       "      <td>0</td>\n",
       "      <td>0</td>\n",
       "      <td>0</td>\n",
       "      <td>0</td>\n",
       "      <td>0</td>\n",
       "    </tr>\n",
       "    <tr>\n",
       "      <th>2</th>\n",
       "      <td>136431</td>\n",
       "      <td>L50498</td>\n",
       "      <td>L</td>\n",
       "      <td>301.3</td>\n",
       "      <td>310.4</td>\n",
       "      <td>1525</td>\n",
       "      <td>37.7</td>\n",
       "      <td>96</td>\n",
       "      <td>0</td>\n",
       "      <td>0</td>\n",
       "      <td>0</td>\n",
       "      <td>0</td>\n",
       "      <td>0</td>\n",
       "    </tr>\n",
       "    <tr>\n",
       "      <th>3</th>\n",
       "      <td>136432</td>\n",
       "      <td>M21232</td>\n",
       "      <td>M</td>\n",
       "      <td>300.1</td>\n",
       "      <td>309.6</td>\n",
       "      <td>1479</td>\n",
       "      <td>47.6</td>\n",
       "      <td>5</td>\n",
       "      <td>0</td>\n",
       "      <td>0</td>\n",
       "      <td>0</td>\n",
       "      <td>0</td>\n",
       "      <td>0</td>\n",
       "    </tr>\n",
       "    <tr>\n",
       "      <th>4</th>\n",
       "      <td>136433</td>\n",
       "      <td>M19751</td>\n",
       "      <td>M</td>\n",
       "      <td>303.4</td>\n",
       "      <td>312.3</td>\n",
       "      <td>1515</td>\n",
       "      <td>41.3</td>\n",
       "      <td>114</td>\n",
       "      <td>0</td>\n",
       "      <td>0</td>\n",
       "      <td>0</td>\n",
       "      <td>0</td>\n",
       "      <td>0</td>\n",
       "    </tr>\n",
       "  </tbody>\n",
       "</table>\n",
       "</div>"
      ],
      "text/plain": [
       "       id Product ID Type  Air temperature [K]  Process temperature [K]  \\\n",
       "0  136429     L50896    L                302.3                    311.5   \n",
       "1  136430     L53866    L                301.7                    311.0   \n",
       "2  136431     L50498    L                301.3                    310.4   \n",
       "3  136432     M21232    M                300.1                    309.6   \n",
       "4  136433     M19751    M                303.4                    312.3   \n",
       "\n",
       "   Rotational speed [rpm]  Torque [Nm]  Tool wear [min]  TWF  HDF  PWF  OSF  \\\n",
       "0                    1499         38.0               60    0    0    0    0   \n",
       "1                    1713         28.8               17    0    0    0    0   \n",
       "2                    1525         37.7               96    0    0    0    0   \n",
       "3                    1479         47.6                5    0    0    0    0   \n",
       "4                    1515         41.3              114    0    0    0    0   \n",
       "\n",
       "   RNF  \n",
       "0    0  \n",
       "1    0  \n",
       "2    0  \n",
       "3    0  \n",
       "4    0  "
      ]
     },
     "execution_count": 5,
     "metadata": {},
     "output_type": "execute_result"
    }
   ],
   "source": [
    "test.head()"
   ]
  },
  {
   "cell_type": "markdown",
   "id": "e84bbc84",
   "metadata": {
    "papermill": {
     "duration": 0.00742,
     "end_time": "2023-07-06T11:29:28.953014",
     "exception": false,
     "start_time": "2023-07-06T11:29:28.945594",
     "status": "completed"
    },
    "tags": []
   },
   "source": [
    "Machine Failure is our target variable."
   ]
  },
  {
   "cell_type": "code",
   "execution_count": 6,
   "id": "b945417a",
   "metadata": {
    "execution": {
     "iopub.execute_input": "2023-07-06T11:29:28.969480Z",
     "iopub.status.busy": "2023-07-06T11:29:28.968786Z",
     "iopub.status.idle": "2023-07-06T11:29:29.081773Z",
     "shell.execute_reply": "2023-07-06T11:29:29.080458Z"
    },
    "papermill": {
     "duration": 0.124427,
     "end_time": "2023-07-06T11:29:29.084564",
     "exception": false,
     "start_time": "2023-07-06T11:29:28.960137",
     "status": "completed"
    },
    "tags": []
   },
   "outputs": [
    {
     "name": "stdout",
     "output_type": "stream",
     "text": [
      "<class 'pandas.core.frame.DataFrame'>\n",
      "RangeIndex: 136429 entries, 0 to 136428\n",
      "Data columns (total 14 columns):\n",
      " #   Column                   Non-Null Count   Dtype  \n",
      "---  ------                   --------------   -----  \n",
      " 0   id                       136429 non-null  int64  \n",
      " 1   Product ID               136429 non-null  object \n",
      " 2   Type                     136429 non-null  object \n",
      " 3   Air temperature [K]      136429 non-null  float64\n",
      " 4   Process temperature [K]  136429 non-null  float64\n",
      " 5   Rotational speed [rpm]   136429 non-null  int64  \n",
      " 6   Torque [Nm]              136429 non-null  float64\n",
      " 7   Tool wear [min]          136429 non-null  int64  \n",
      " 8   Machine failure          136429 non-null  int64  \n",
      " 9   TWF                      136429 non-null  int64  \n",
      " 10  HDF                      136429 non-null  int64  \n",
      " 11  PWF                      136429 non-null  int64  \n",
      " 12  OSF                      136429 non-null  int64  \n",
      " 13  RNF                      136429 non-null  int64  \n",
      "dtypes: float64(3), int64(9), object(2)\n",
      "memory usage: 14.6+ MB\n"
     ]
    }
   ],
   "source": [
    "train.info()"
   ]
  },
  {
   "cell_type": "markdown",
   "id": "7ce13651",
   "metadata": {
    "papermill": {
     "duration": 0.007019,
     "end_time": "2023-07-06T11:29:29.099229",
     "exception": false,
     "start_time": "2023-07-06T11:29:29.092210",
     "status": "completed"
    },
    "tags": []
   },
   "source": [
    "There are 14 total columns. Among 14 columns, there are 2 categorical columns and 12 numerical columns. And there are total of 136429 data points."
   ]
  },
  {
   "cell_type": "code",
   "execution_count": 7,
   "id": "c79196e6",
   "metadata": {
    "execution": {
     "iopub.execute_input": "2023-07-06T11:29:29.117526Z",
     "iopub.status.busy": "2023-07-06T11:29:29.116538Z",
     "iopub.status.idle": "2023-07-06T11:29:29.212704Z",
     "shell.execute_reply": "2023-07-06T11:29:29.211525Z"
    },
    "papermill": {
     "duration": 0.108304,
     "end_time": "2023-07-06T11:29:29.215224",
     "exception": false,
     "start_time": "2023-07-06T11:29:29.106920",
     "status": "completed"
    },
    "tags": []
   },
   "outputs": [
    {
     "data": {
      "text/plain": [
       "id                         0\n",
       "Product ID                 0\n",
       "Type                       0\n",
       "Air temperature [K]        0\n",
       "Process temperature [K]    0\n",
       "Rotational speed [rpm]     0\n",
       "Torque [Nm]                0\n",
       "Tool wear [min]            0\n",
       "Machine failure            0\n",
       "TWF                        0\n",
       "HDF                        0\n",
       "PWF                        0\n",
       "OSF                        0\n",
       "RNF                        0\n",
       "dtype: int64"
      ]
     },
     "execution_count": 7,
     "metadata": {},
     "output_type": "execute_result"
    }
   ],
   "source": [
    "train.isnull().sum()"
   ]
  },
  {
   "cell_type": "markdown",
   "id": "9b186bfd",
   "metadata": {
    "papermill": {
     "duration": 0.00765,
     "end_time": "2023-07-06T11:29:29.230550",
     "exception": false,
     "start_time": "2023-07-06T11:29:29.222900",
     "status": "completed"
    },
    "tags": []
   },
   "source": [
    "There is no null value present in the dataset."
   ]
  },
  {
   "cell_type": "code",
   "execution_count": 8,
   "id": "63c319a7",
   "metadata": {
    "execution": {
     "iopub.execute_input": "2023-07-06T11:29:29.248614Z",
     "iopub.status.busy": "2023-07-06T11:29:29.248207Z",
     "iopub.status.idle": "2023-07-06T11:29:29.303226Z",
     "shell.execute_reply": "2023-07-06T11:29:29.301876Z"
    },
    "papermill": {
     "duration": 0.066921,
     "end_time": "2023-07-06T11:29:29.305791",
     "exception": false,
     "start_time": "2023-07-06T11:29:29.238870",
     "status": "completed"
    },
    "tags": []
   },
   "outputs": [
    {
     "data": {
      "text/plain": [
       "id                         136429\n",
       "Product ID                   9976\n",
       "Type                            3\n",
       "Air temperature [K]            95\n",
       "Process temperature [K]        81\n",
       "Rotational speed [rpm]        952\n",
       "Torque [Nm]                   611\n",
       "Tool wear [min]               246\n",
       "Machine failure                 2\n",
       "TWF                             2\n",
       "HDF                             2\n",
       "PWF                             2\n",
       "OSF                             2\n",
       "RNF                             2\n",
       "dtype: int64"
      ]
     },
     "execution_count": 8,
     "metadata": {},
     "output_type": "execute_result"
    }
   ],
   "source": [
    "train.nunique()"
   ]
  },
  {
   "cell_type": "markdown",
   "id": "a1536f11",
   "metadata": {
    "papermill": {
     "duration": 0.0074,
     "end_time": "2023-07-06T11:29:29.321135",
     "exception": false,
     "start_time": "2023-07-06T11:29:29.313735",
     "status": "completed"
    },
    "tags": []
   },
   "source": [
    "We should drop the id and Product Id column. Id column's values is unique for every data points. Product Id is a categorical column and has 9976 different data points."
   ]
  },
  {
   "cell_type": "code",
   "execution_count": 9,
   "id": "da6a1af4",
   "metadata": {
    "execution": {
     "iopub.execute_input": "2023-07-06T11:29:29.338364Z",
     "iopub.status.busy": "2023-07-06T11:29:29.337985Z",
     "iopub.status.idle": "2023-07-06T11:29:29.351960Z",
     "shell.execute_reply": "2023-07-06T11:29:29.351020Z"
    },
    "papermill": {
     "duration": 0.025111,
     "end_time": "2023-07-06T11:29:29.353992",
     "exception": false,
     "start_time": "2023-07-06T11:29:29.328881",
     "status": "completed"
    },
    "tags": []
   },
   "outputs": [],
   "source": [
    "train.drop(['id', 'Product ID'], axis=1, inplace=True)"
   ]
  },
  {
   "cell_type": "code",
   "execution_count": 10,
   "id": "cf6052db",
   "metadata": {
    "execution": {
     "iopub.execute_input": "2023-07-06T11:29:29.372450Z",
     "iopub.status.busy": "2023-07-06T11:29:29.371124Z",
     "iopub.status.idle": "2023-07-06T11:29:29.388469Z",
     "shell.execute_reply": "2023-07-06T11:29:29.387471Z"
    },
    "papermill": {
     "duration": 0.028994,
     "end_time": "2023-07-06T11:29:29.390816",
     "exception": false,
     "start_time": "2023-07-06T11:29:29.361822",
     "status": "completed"
    },
    "tags": []
   },
   "outputs": [
    {
     "data": {
      "text/html": [
       "<div>\n",
       "<style scoped>\n",
       "    .dataframe tbody tr th:only-of-type {\n",
       "        vertical-align: middle;\n",
       "    }\n",
       "\n",
       "    .dataframe tbody tr th {\n",
       "        vertical-align: top;\n",
       "    }\n",
       "\n",
       "    .dataframe thead th {\n",
       "        text-align: right;\n",
       "    }\n",
       "</style>\n",
       "<table border=\"1\" class=\"dataframe\">\n",
       "  <thead>\n",
       "    <tr style=\"text-align: right;\">\n",
       "      <th></th>\n",
       "      <th>Type</th>\n",
       "      <th>Air temperature [K]</th>\n",
       "      <th>Process temperature [K]</th>\n",
       "      <th>Rotational speed [rpm]</th>\n",
       "      <th>Torque [Nm]</th>\n",
       "      <th>Tool wear [min]</th>\n",
       "      <th>Machine failure</th>\n",
       "      <th>TWF</th>\n",
       "      <th>HDF</th>\n",
       "      <th>PWF</th>\n",
       "      <th>OSF</th>\n",
       "      <th>RNF</th>\n",
       "    </tr>\n",
       "  </thead>\n",
       "  <tbody>\n",
       "    <tr>\n",
       "      <th>0</th>\n",
       "      <td>L</td>\n",
       "      <td>300.6</td>\n",
       "      <td>309.6</td>\n",
       "      <td>1596</td>\n",
       "      <td>36.1</td>\n",
       "      <td>140</td>\n",
       "      <td>0</td>\n",
       "      <td>0</td>\n",
       "      <td>0</td>\n",
       "      <td>0</td>\n",
       "      <td>0</td>\n",
       "      <td>0</td>\n",
       "    </tr>\n",
       "    <tr>\n",
       "      <th>1</th>\n",
       "      <td>M</td>\n",
       "      <td>302.6</td>\n",
       "      <td>312.1</td>\n",
       "      <td>1759</td>\n",
       "      <td>29.1</td>\n",
       "      <td>200</td>\n",
       "      <td>0</td>\n",
       "      <td>0</td>\n",
       "      <td>0</td>\n",
       "      <td>0</td>\n",
       "      <td>0</td>\n",
       "      <td>0</td>\n",
       "    </tr>\n",
       "    <tr>\n",
       "      <th>2</th>\n",
       "      <td>L</td>\n",
       "      <td>299.3</td>\n",
       "      <td>308.5</td>\n",
       "      <td>1805</td>\n",
       "      <td>26.5</td>\n",
       "      <td>25</td>\n",
       "      <td>0</td>\n",
       "      <td>0</td>\n",
       "      <td>0</td>\n",
       "      <td>0</td>\n",
       "      <td>0</td>\n",
       "      <td>0</td>\n",
       "    </tr>\n",
       "    <tr>\n",
       "      <th>3</th>\n",
       "      <td>L</td>\n",
       "      <td>301.0</td>\n",
       "      <td>310.9</td>\n",
       "      <td>1524</td>\n",
       "      <td>44.3</td>\n",
       "      <td>197</td>\n",
       "      <td>0</td>\n",
       "      <td>0</td>\n",
       "      <td>0</td>\n",
       "      <td>0</td>\n",
       "      <td>0</td>\n",
       "      <td>0</td>\n",
       "    </tr>\n",
       "    <tr>\n",
       "      <th>4</th>\n",
       "      <td>M</td>\n",
       "      <td>298.0</td>\n",
       "      <td>309.0</td>\n",
       "      <td>1641</td>\n",
       "      <td>35.4</td>\n",
       "      <td>34</td>\n",
       "      <td>0</td>\n",
       "      <td>0</td>\n",
       "      <td>0</td>\n",
       "      <td>0</td>\n",
       "      <td>0</td>\n",
       "      <td>0</td>\n",
       "    </tr>\n",
       "  </tbody>\n",
       "</table>\n",
       "</div>"
      ],
      "text/plain": [
       "  Type  Air temperature [K]  Process temperature [K]  Rotational speed [rpm]  \\\n",
       "0    L                300.6                    309.6                    1596   \n",
       "1    M                302.6                    312.1                    1759   \n",
       "2    L                299.3                    308.5                    1805   \n",
       "3    L                301.0                    310.9                    1524   \n",
       "4    M                298.0                    309.0                    1641   \n",
       "\n",
       "   Torque [Nm]  Tool wear [min]  Machine failure  TWF  HDF  PWF  OSF  RNF  \n",
       "0         36.1              140                0    0    0    0    0    0  \n",
       "1         29.1              200                0    0    0    0    0    0  \n",
       "2         26.5               25                0    0    0    0    0    0  \n",
       "3         44.3              197                0    0    0    0    0    0  \n",
       "4         35.4               34                0    0    0    0    0    0  "
      ]
     },
     "execution_count": 10,
     "metadata": {},
     "output_type": "execute_result"
    }
   ],
   "source": [
    "train.head()"
   ]
  },
  {
   "cell_type": "code",
   "execution_count": 11,
   "id": "cc4c254a",
   "metadata": {
    "execution": {
     "iopub.execute_input": "2023-07-06T11:29:29.409242Z",
     "iopub.status.busy": "2023-07-06T11:29:29.408523Z",
     "iopub.status.idle": "2023-07-06T11:29:29.418117Z",
     "shell.execute_reply": "2023-07-06T11:29:29.416938Z"
    },
    "papermill": {
     "duration": 0.021483,
     "end_time": "2023-07-06T11:29:29.420509",
     "exception": false,
     "start_time": "2023-07-06T11:29:29.399026",
     "status": "completed"
    },
    "tags": []
   },
   "outputs": [
    {
     "data": {
      "text/plain": [
       "0    134281\n",
       "1      2148\n",
       "Name: Machine failure, dtype: int64"
      ]
     },
     "execution_count": 11,
     "metadata": {},
     "output_type": "execute_result"
    }
   ],
   "source": [
    "train['Machine failure'].value_counts()"
   ]
  },
  {
   "cell_type": "code",
   "execution_count": 12,
   "id": "ef3c34be",
   "metadata": {
    "execution": {
     "iopub.execute_input": "2023-07-06T11:29:29.440422Z",
     "iopub.status.busy": "2023-07-06T11:29:29.439688Z",
     "iopub.status.idle": "2023-07-06T11:29:29.727962Z",
     "shell.execute_reply": "2023-07-06T11:29:29.726702Z"
    },
    "papermill": {
     "duration": 0.301795,
     "end_time": "2023-07-06T11:29:29.730794",
     "exception": false,
     "start_time": "2023-07-06T11:29:29.428999",
     "status": "completed"
    },
    "tags": []
   },
   "outputs": [
    {
     "data": {
      "text/plain": [
       "<Axes: xlabel='Machine failure', ylabel='count'>"
      ]
     },
     "execution_count": 12,
     "metadata": {},
     "output_type": "execute_result"
    },
    {
     "data": {
      "image/png": "[encoded data removed]",
      "text/plain": [
       "<Figure size 640x480 with 1 Axes>"
      ]
     },
     "metadata": {},
     "output_type": "display_data"
    }
   ],
   "source": [
    "sns.countplot(data=train, x='Machine failure')"
   ]
  },
  {
   "cell_type": "code",
   "execution_count": null,
   "id": "715fb925",
   "metadata": {
    "papermill": {
     "duration": 0.008871,
     "end_time": "2023-07-06T11:29:29.748956",
     "exception": false,
     "start_time": "2023-07-06T11:29:29.740085",
     "status": "completed"
    },
    "tags": []
   },
   "outputs": [],
   "source": []
  },
  {
   "cell_type": "code",
   "execution_count": null,
   "id": "301ab24e",
   "metadata": {
    "papermill": {
     "duration": 0.008291,
     "end_time": "2023-07-06T11:29:29.765974",
     "exception": false,
     "start_time": "2023-07-06T11:29:29.757683",
     "status": "completed"
    },
    "tags": []
   },
   "outputs": [],
   "source": []
  }
 ],
 "metadata": {
  "kernelspec": {
   "display_name": "Python 3",
   "language": "python",
   "name": "python3"
  },
  "language_info": {
   "codemirror_mode": {
    "name": "ipython",
    "version": 3
   },
   "file_extension": ".py",
   "mimetype": "text/x-python",
   "name": "python",
   "nbconvert_exporter": "python",
   "pygments_lexer": "ipython3",
   "version": "3.10.10"
  },
  "papermill": {
   "default_parameters": {},
   "duration": 17.033507,
   "end_time": "2023-07-06T11:29:30.798714",
   "environment_variables": {},
   "exception": null,
   "input_path": "__notebook__.ipynb",
   "output_path": "__notebook__.ipynb",
   "parameters": {},
   "start_time": "2023-07-06T11:29:13.765207",
   "version": "2.4.0"
  }
 },
 "nbformat": 4,
 "nbformat_minor": 5
}
